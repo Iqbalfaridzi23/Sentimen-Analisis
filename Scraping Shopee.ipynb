{
 "cells": [
  {
   "cell_type": "code",
   "execution_count": 9,
   "id": "1ff93657",
   "metadata": {},
   "outputs": [],
   "source": [
    "from google_play_scraper import Sort, reviews\n",
    "import pandas as pd\n",
    "import time\n",
    "\n",
    "package_name = 'com.shopee.id'"
   ]
  },
  {
   "cell_type": "code",
   "execution_count": 10,
   "id": "5f9fe129",
   "metadata": {},
   "outputs": [],
   "source": [
    "result, _ = reviews(\n",
    "    package_name,\n",
    "    lang='en',\n",
    "    country='us',\n",
    "    sort=Sort.NEWEST,\n",
    "    count=10000,\n",
    ")"
   ]
  },
  {
   "cell_type": "code",
   "execution_count": 11,
   "id": "c9af7323-d25b-4618-a2f6-b62122967c5f",
   "metadata": {},
   "outputs": [],
   "source": [
    "df = pd.DataFrame(result)"
   ]
  },
  {
   "cell_type": "code",
   "execution_count": 13,
   "id": "116a2930-0c84-4f42-a860-107b89d421b5",
   "metadata": {},
   "outputs": [
    {
     "name": "stdout",
     "output_type": "stream",
     "text": [
      "Scraping selesai! Total review: 10000\n"
     ]
    }
   ],
   "source": [
    "df.to_csv('shopee.csv', index=False)\n",
    "print(f\"Scraping selesai! Total review: {len(df)}\")"
   ]
  },
  {
   "cell_type": "code",
   "execution_count": null,
   "id": "89c20e19-c806-435e-94c8-5cc209c9a2d3",
   "metadata": {},
   "outputs": [],
   "source": []
  }
 ],
 "metadata": {
  "kernelspec": {
   "display_name": "Python 3 (ipykernel)",
   "language": "python",
   "name": "python3"
  },
  "language_info": {
   "codemirror_mode": {
    "name": "ipython",
    "version": 3
   },
   "file_extension": ".py",
   "mimetype": "text/x-python",
   "name": "python",
   "nbconvert_exporter": "python",
   "pygments_lexer": "ipython3",
   "version": "3.9.13"
  }
 },
 "nbformat": 4,
 "nbformat_minor": 5
}
