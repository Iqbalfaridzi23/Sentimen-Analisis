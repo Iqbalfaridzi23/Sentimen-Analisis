{
 "cells": [
  {
   "cell_type": "code",
   "execution_count": 62,
   "id": "1d28d070",
   "metadata": {},
   "outputs": [],
   "source": [
    "import re\n",
    "import numpy as np\n",
    "import pandas as pd\n",
    "import tensorflow as tf\n",
    "from sklearn.model_selection import train_test_split\n",
    "from gensim.models import Word2Vec\n",
    "from tensorflow.keras.preprocessing.text import Tokenizer\n",
    "from tensorflow.keras.preprocessing.sequence import pad_sequences\n",
    "from tensorflow.keras.models import Sequential\n",
    "from tensorflow.keras.layers import Embedding, GRU, Dense, Dropout, Bidirectional\n",
    "from tensorflow.keras.initializers import Constant\n",
    "from tensorflow.keras.callbacks import EarlyStopping\n",
    "from Sastrawi.StopWordRemover.StopWordRemoverFactory import StopWordRemoverFactory\n",
    "from tensorflow.keras.layers import Layer\n",
    "\n"
   ]
  },
  {
   "cell_type": "code",
   "execution_count": 63,
   "id": "36a936f4",
   "metadata": {},
   "outputs": [
    {
     "data": {
      "text/html": [
       "<div>\n",
       "<style scoped>\n",
       "    .dataframe tbody tr th:only-of-type {\n",
       "        vertical-align: middle;\n",
       "    }\n",
       "\n",
       "    .dataframe tbody tr th {\n",
       "        vertical-align: top;\n",
       "    }\n",
       "\n",
       "    .dataframe thead th {\n",
       "        text-align: right;\n",
       "    }\n",
       "</style>\n",
       "<table border=\"1\" class=\"dataframe\">\n",
       "  <thead>\n",
       "    <tr style=\"text-align: right;\">\n",
       "      <th></th>\n",
       "      <th>reviewId</th>\n",
       "      <th>userName</th>\n",
       "      <th>userImage</th>\n",
       "      <th>content</th>\n",
       "      <th>score</th>\n",
       "      <th>thumbsUpCount</th>\n",
       "      <th>reviewCreatedVersion</th>\n",
       "      <th>at</th>\n",
       "      <th>replyContent</th>\n",
       "      <th>repliedAt</th>\n",
       "      <th>appVersion</th>\n",
       "    </tr>\n",
       "  </thead>\n",
       "  <tbody>\n",
       "    <tr>\n",
       "      <th>0</th>\n",
       "      <td>a22da68d-4a31-473a-b6a2-a8a95e0511a6</td>\n",
       "      <td>A Google user</td>\n",
       "      <td>https://play-lh.googleusercontent.com/EGemoI2N...</td>\n",
       "      <td>Terlalu banyak video wanita berpakaian minim p...</td>\n",
       "      <td>1</td>\n",
       "      <td>6</td>\n",
       "      <td>3.47.40</td>\n",
       "      <td>2025-04-13 23:59:25</td>\n",
       "      <td>Hai kak Ganggaswara Permana, makasih ya buat b...</td>\n",
       "      <td>2025-04-13 21:09:47</td>\n",
       "      <td>3.47.40</td>\n",
       "    </tr>\n",
       "    <tr>\n",
       "      <th>1</th>\n",
       "      <td>8ed6168d-b897-4f81-8307-48926edf8984</td>\n",
       "      <td>A Google user</td>\n",
       "      <td>https://play-lh.googleusercontent.com/EGemoI2N...</td>\n",
       "      <td>recommended..</td>\n",
       "      <td>5</td>\n",
       "      <td>0</td>\n",
       "      <td>3.47.40</td>\n",
       "      <td>2025-04-13 23:11:13</td>\n",
       "      <td>Hai kak Dodi , makasih ya buat bintang 5 nya. ...</td>\n",
       "      <td>2025-04-14 00:28:29</td>\n",
       "      <td>3.47.40</td>\n",
       "    </tr>\n",
       "    <tr>\n",
       "      <th>2</th>\n",
       "      <td>ebe6a755-2d6d-4d80-85ca-f89b758183fc</td>\n",
       "      <td>A Google user</td>\n",
       "      <td>https://play-lh.googleusercontent.com/EGemoI2N...</td>\n",
       "      <td>semoga tambah lebih bagus dan murah juga ya ba...</td>\n",
       "      <td>5</td>\n",
       "      <td>0</td>\n",
       "      <td>3.47.39</td>\n",
       "      <td>2025-04-13 22:56:44</td>\n",
       "      <td>Hai kak Firda Zhang, makasih bgt komentar dan ...</td>\n",
       "      <td>2025-04-14 00:36:13</td>\n",
       "      <td>3.47.39</td>\n",
       "    </tr>\n",
       "    <tr>\n",
       "      <th>3</th>\n",
       "      <td>694eb065-3998-4198-b0c4-71f4adc660c2</td>\n",
       "      <td>A Google user</td>\n",
       "      <td>https://play-lh.googleusercontent.com/EGemoI2N...</td>\n",
       "      <td>Kenapa tidak ada fitur blokir chat?</td>\n",
       "      <td>2</td>\n",
       "      <td>0</td>\n",
       "      <td>3.47.40</td>\n",
       "      <td>2025-04-13 22:48:35</td>\n",
       "      <td>Hi kak Burhani Mutiara Nublah , maaf ya terkai...</td>\n",
       "      <td>2025-04-14 00:38:10</td>\n",
       "      <td>3.47.40</td>\n",
       "    </tr>\n",
       "    <tr>\n",
       "      <th>4</th>\n",
       "      <td>31cead75-df3b-442a-a99a-8514bd23714e</td>\n",
       "      <td>A Google user</td>\n",
       "      <td>https://play-lh.googleusercontent.com/EGemoI2N...</td>\n",
       "      <td>beli token, gak bisa kepake, kadang bisa kadan...</td>\n",
       "      <td>1</td>\n",
       "      <td>0</td>\n",
       "      <td>3.47.40</td>\n",
       "      <td>2025-04-13 22:20:16</td>\n",
       "      <td>Hai kak Ryu Sent , maaf yaa udh buat ga nyaman...</td>\n",
       "      <td>2025-04-14 00:23:37</td>\n",
       "      <td>3.47.40</td>\n",
       "    </tr>\n",
       "  </tbody>\n",
       "</table>\n",
       "</div>"
      ],
      "text/plain": [
       "                               reviewId       userName  \\\n",
       "0  a22da68d-4a31-473a-b6a2-a8a95e0511a6  A Google user   \n",
       "1  8ed6168d-b897-4f81-8307-48926edf8984  A Google user   \n",
       "2  ebe6a755-2d6d-4d80-85ca-f89b758183fc  A Google user   \n",
       "3  694eb065-3998-4198-b0c4-71f4adc660c2  A Google user   \n",
       "4  31cead75-df3b-442a-a99a-8514bd23714e  A Google user   \n",
       "\n",
       "                                           userImage  \\\n",
       "0  https://play-lh.googleusercontent.com/EGemoI2N...   \n",
       "1  https://play-lh.googleusercontent.com/EGemoI2N...   \n",
       "2  https://play-lh.googleusercontent.com/EGemoI2N...   \n",
       "3  https://play-lh.googleusercontent.com/EGemoI2N...   \n",
       "4  https://play-lh.googleusercontent.com/EGemoI2N...   \n",
       "\n",
       "                                             content  score  thumbsUpCount  \\\n",
       "0  Terlalu banyak video wanita berpakaian minim p...      1              6   \n",
       "1                                      recommended..      5              0   \n",
       "2  semoga tambah lebih bagus dan murah juga ya ba...      5              0   \n",
       "3                Kenapa tidak ada fitur blokir chat?      2              0   \n",
       "4  beli token, gak bisa kepake, kadang bisa kadan...      1              0   \n",
       "\n",
       "  reviewCreatedVersion                   at  \\\n",
       "0              3.47.40  2025-04-13 23:59:25   \n",
       "1              3.47.40  2025-04-13 23:11:13   \n",
       "2              3.47.39  2025-04-13 22:56:44   \n",
       "3              3.47.40  2025-04-13 22:48:35   \n",
       "4              3.47.40  2025-04-13 22:20:16   \n",
       "\n",
       "                                        replyContent            repliedAt  \\\n",
       "0  Hai kak Ganggaswara Permana, makasih ya buat b...  2025-04-13 21:09:47   \n",
       "1  Hai kak Dodi , makasih ya buat bintang 5 nya. ...  2025-04-14 00:28:29   \n",
       "2  Hai kak Firda Zhang, makasih bgt komentar dan ...  2025-04-14 00:36:13   \n",
       "3  Hi kak Burhani Mutiara Nublah , maaf ya terkai...  2025-04-14 00:38:10   \n",
       "4  Hai kak Ryu Sent , maaf yaa udh buat ga nyaman...  2025-04-14 00:23:37   \n",
       "\n",
       "  appVersion  \n",
       "0    3.47.40  \n",
       "1    3.47.40  \n",
       "2    3.47.39  \n",
       "3    3.47.40  \n",
       "4    3.47.40  "
      ]
     },
     "execution_count": 63,
     "metadata": {},
     "output_type": "execute_result"
    }
   ],
   "source": [
    "df = pd.read_csv('shopee.csv')\n",
    "df.head()"
   ]
  },
  {
   "cell_type": "code",
   "execution_count": 64,
   "id": "2bdb1fe0-5a63-4366-9e73-a497310d8c4a",
   "metadata": {},
   "outputs": [
    {
     "name": "stdout",
     "output_type": "stream",
     "text": [
      "<class 'pandas.core.frame.DataFrame'>\n",
      "RangeIndex: 10000 entries, 0 to 9999\n",
      "Data columns (total 11 columns):\n",
      " #   Column                Non-Null Count  Dtype \n",
      "---  ------                --------------  ----- \n",
      " 0   reviewId              10000 non-null  object\n",
      " 1   userName              10000 non-null  object\n",
      " 2   userImage             10000 non-null  object\n",
      " 3   content               9999 non-null   object\n",
      " 4   score                 10000 non-null  int64 \n",
      " 5   thumbsUpCount         10000 non-null  int64 \n",
      " 6   reviewCreatedVersion  8090 non-null   object\n",
      " 7   at                    10000 non-null  object\n",
      " 8   replyContent          8849 non-null   object\n",
      " 9   repliedAt             8849 non-null   object\n",
      " 10  appVersion            8090 non-null   object\n",
      "dtypes: int64(2), object(9)\n",
      "memory usage: 859.5+ KB\n"
     ]
    }
   ],
   "source": [
    "df.info()"
   ]
  },
  {
   "cell_type": "code",
   "execution_count": 65,
   "id": "a607d8f1-1f0d-48cd-a709-7e24c111d3cc",
   "metadata": {},
   "outputs": [],
   "source": [
    "df.dropna(inplace=True)\n",
    "df.drop_duplicates(inplace=True)"
   ]
  },
  {
   "cell_type": "code",
   "execution_count": 66,
   "id": "4252b436-0e68-4bd5-b670-3fc6f3499ec4",
   "metadata": {},
   "outputs": [
    {
     "data": {
      "text/plain": [
       "1    4042\n",
       "0    2804\n",
       "Name: sentiment, dtype: int64"
      ]
     },
     "execution_count": 66,
     "metadata": {},
     "output_type": "execute_result"
    }
   ],
   "source": [
    "df = df[df['score'] != 3]\n",
    "\n",
    "# Label: 0 = negatif, 1 = positif\n",
    "df['sentiment'] = df['score'].apply(lambda x: 0 if x <= 2 else 1)\n",
    "\n",
    "# Cek distribusi label\n",
    "df['sentiment'].value_counts()"
   ]
  },
  {
   "cell_type": "code",
   "execution_count": 67,
   "id": "f82c2f19-2d50-4b5c-9271-fe216daa074e",
   "metadata": {},
   "outputs": [],
   "source": [
    "# Inisialisasi stopword remover\n",
    "factory = StopWordRemoverFactory()\n",
    "stopwords = set(factory.get_stop_words())\n",
    "\n",
    "def clean_text(text):\n",
    "    text = text.lower()\n",
    "    text = re.sub(r\"http\\S+|www\\S+|https\\S+\", '', text)\n",
    "    text = re.sub(r\"[^a-zA-Z\\s]\", '', text)\n",
    "    text = re.sub(r\"\\s+\", ' ', text).strip()\n",
    "    return ' '.join([word for word in text.split() if word not in stopwords])\n",
    "\n",
    "df['clean_text'] = df['content'].astype(str).apply(clean_text)\n"
   ]
  },
  {
   "cell_type": "code",
   "execution_count": 68,
   "id": "00cb8f78-eda7-46b0-afa5-703931b25440",
   "metadata": {},
   "outputs": [],
   "source": [
    "tokenizer = Tokenizer(num_words=10000, oov_token='<OOV>')\n",
    "tokenizer.fit_on_texts(df['clean_text'])\n",
    "sequences = tokenizer.texts_to_sequences(df['clean_text'])\n",
    "padded = pad_sequences(sequences, maxlen=150, padding='post')"
   ]
  },
  {
   "cell_type": "code",
   "execution_count": 69,
   "id": "22e5d4de-e670-4a0c-a675-d0d7a5a187b4",
   "metadata": {},
   "outputs": [],
   "source": [
    "tokenized_texts = [text.split() for text in df['clean_text']]\n",
    "w2v_model = Word2Vec(sentences=tokenized_texts, vector_size=100, window=5, min_count=1, workers=4)"
   ]
  },
  {
   "cell_type": "code",
   "execution_count": 81,
   "id": "475cb58d-1764-477b-aff0-bc2d439c3155",
   "metadata": {},
   "outputs": [],
   "source": [
    "vocab_size = min(len(tokenizer.word_index) + 1, 10000)\n",
    "embedding_dim = 100\n",
    "embedding_matrix = np.zeros((vocab_size, embedding_dim))\n",
    "\n",
    "for word, i in tokenizer.word_index.items():\n",
    "    if i >= vocab_size:\n",
    "        continue\n",
    "    if word in w2v_model.wv:\n",
    "        embedding_matrix[i] = w2v_model.wv[word]\n",
    "    else:\n",
    "        embedding_matrix[i] = np.random.normal(0, 0.01, embedding_dim)"
   ]
  },
  {
   "cell_type": "code",
   "execution_count": 82,
   "id": "9830c84f-da28-4de8-8cc1-eb09c7e4f2d6",
   "metadata": {},
   "outputs": [],
   "source": [
    "class Attention(Layer):\n",
    "    def __init__(self):\n",
    "        super(Attention, self).__init__()\n",
    "\n",
    "    def call(self, inputs):\n",
    "        score = tf.nn.tanh(inputs)\n",
    "        attention_weights = tf.nn.softmax(score, axis=1)\n",
    "        context_vector = attention_weights * inputs\n",
    "        context_vector = tf.reduce_sum(context_vector, axis=1)\n",
    "        return context_vector"
   ]
  },
  {
   "cell_type": "code",
   "execution_count": 83,
   "id": "c482e1a9-3f3a-4064-89d5-70c199377a50",
   "metadata": {},
   "outputs": [],
   "source": [
    "X_train, X_test, y_train, y_test = train_test_split(\n",
    "    padded, df['sentiment'], test_size=0.2, random_state=42, stratify=df['sentiment']\n",
    ")"
   ]
  },
  {
   "cell_type": "code",
   "execution_count": 84,
   "id": "e36dcd7f-f7d8-444f-9081-f80ab439ecd9",
   "metadata": {},
   "outputs": [],
   "source": [
    "model = Sequential([\n",
    "    Embedding(input_dim=vocab_size,\n",
    "              output_dim=embedding_dim,\n",
    "              embeddings_initializer=Constant(embedding_matrix),\n",
    "              trainable=True),\n",
    "\n",
    "    Bidirectional(GRU(128, return_sequences=True)),\n",
    "    Bidirectional(GRU(64, return_sequences=True)),  # ✅ penting!\n",
    "    Attention(),\n",
    "    Dropout(0.4),\n",
    "    Dense(64, activation='relu'),\n",
    "    Dense(1, activation='sigmoid')\n",
    "])\n",
    "model.compile(loss='binary_crossentropy', optimizer='adam', metrics=['accuracy'])"
   ]
  },
  {
   "cell_type": "code",
   "execution_count": 85,
   "id": "b55aaa0a-970c-44e2-aae3-8d57093dc50d",
   "metadata": {},
   "outputs": [
    {
     "name": "stdout",
     "output_type": "stream",
     "text": [
      "Epoch 1/15\n",
      "\u001b[1m172/172\u001b[0m \u001b[32m━━━━━━━━━━━━━━━━━━━━\u001b[0m\u001b[37m\u001b[0m \u001b[1m36s\u001b[0m 132ms/step - accuracy: 0.7348 - loss: 0.5437 - val_accuracy: 0.7898 - val_loss: 0.4638\n",
      "Epoch 2/15\n",
      "\u001b[1m172/172\u001b[0m \u001b[32m━━━━━━━━━━━━━━━━━━━━\u001b[0m\u001b[37m\u001b[0m \u001b[1m22s\u001b[0m 128ms/step - accuracy: 0.8197 - loss: 0.4143 - val_accuracy: 0.8241 - val_loss: 0.5136\n",
      "Epoch 3/15\n",
      "\u001b[1m172/172\u001b[0m \u001b[32m━━━━━━━━━━━━━━━━━━━━\u001b[0m\u001b[37m\u001b[0m \u001b[1m23s\u001b[0m 131ms/step - accuracy: 0.9184 - loss: 0.2125 - val_accuracy: 0.9066 - val_loss: 0.2572\n",
      "Epoch 4/15\n",
      "\u001b[1m172/172\u001b[0m \u001b[32m━━━━━━━━━━━━━━━━━━━━\u001b[0m\u001b[37m\u001b[0m \u001b[1m22s\u001b[0m 129ms/step - accuracy: 0.9629 - loss: 0.1147 - val_accuracy: 0.9015 - val_loss: 0.3581\n",
      "Epoch 5/15\n",
      "\u001b[1m172/172\u001b[0m \u001b[32m━━━━━━━━━━━━━━━━━━━━\u001b[0m\u001b[37m\u001b[0m \u001b[1m23s\u001b[0m 136ms/step - accuracy: 0.9825 - loss: 0.0611 - val_accuracy: 0.8993 - val_loss: 0.3869\n",
      "Epoch 6/15\n",
      "\u001b[1m172/172\u001b[0m \u001b[32m━━━━━━━━━━━━━━━━━━━━\u001b[0m\u001b[37m\u001b[0m \u001b[1m23s\u001b[0m 133ms/step - accuracy: 0.9901 - loss: 0.0361 - val_accuracy: 0.8912 - val_loss: 0.3995\n"
     ]
    }
   ],
   "source": [
    "early_stop = EarlyStopping(monitor='val_loss', patience=3, restore_best_weights=True)\n",
    "\n",
    "history = model.fit(\n",
    "    X_train, y_train,\n",
    "    validation_data=(X_test, y_test),\n",
    "    epochs=15,\n",
    "    batch_size=32,  \n",
    "    callbacks=[early_stop]\n",
    ")"
   ]
  },
  {
   "cell_type": "code",
   "execution_count": null,
   "id": "6071ea0b-6d76-40b3-9428-6937cd90bb55",
   "metadata": {},
   "outputs": [],
   "source": []
  },
  {
   "cell_type": "code",
   "execution_count": null,
   "id": "46c0fd17-46bb-4019-9f04-5b5b3fea288b",
   "metadata": {},
   "outputs": [],
   "source": []
  },
  {
   "cell_type": "code",
   "execution_count": 86,
   "id": "0a4e2ccd-3c4c-4cfb-94ea-83f86408e1ee",
   "metadata": {},
   "outputs": [
    {
     "name": "stdout",
     "output_type": "stream",
     "text": [
      "\u001b[1m43/43\u001b[0m \u001b[32m━━━━━━━━━━━━━━━━━━━━\u001b[0m\u001b[37m\u001b[0m \u001b[1m3s\u001b[0m 72ms/step - accuracy: 0.9094 - loss: 0.2445\n",
      "Akurasi Uji: 90.66%\n"
     ]
    }
   ],
   "source": [
    "loss, acc = model.evaluate(X_test, y_test)\n",
    "print(f\"Akurasi Uji: {acc*100:.2f}%\")"
   ]
  },
  {
   "cell_type": "code",
   "execution_count": null,
   "id": "46ea61e2-42ca-415f-92f7-883aa887a065",
   "metadata": {},
   "outputs": [],
   "source": []
  },
  {
   "cell_type": "code",
   "execution_count": null,
   "id": "f3fd1cfd-85bb-412d-a141-80ed67af9083",
   "metadata": {},
   "outputs": [],
   "source": []
  }
 ],
 "metadata": {
  "kernelspec": {
   "display_name": "Python 3 (ipykernel)",
   "language": "python",
   "name": "python3"
  },
  "language_info": {
   "codemirror_mode": {
    "name": "ipython",
    "version": 3
   },
   "file_extension": ".py",
   "mimetype": "text/x-python",
   "name": "python",
   "nbconvert_exporter": "python",
   "pygments_lexer": "ipython3",
   "version": "3.9.13"
  }
 },
 "nbformat": 4,
 "nbformat_minor": 5
}
